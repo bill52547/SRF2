{
 "cells": [
  {
   "cell_type": "code",
   "execution_count": null,
   "metadata": {
    "collapsed": true
   },
   "outputs": [],
   "source": [
    "from srf2.meta.psf_meta import *\n",
    "from srf2.meta.image_meta import *\n",
    "from srf2.data.image import *\n",
    "import scipy.optimize as opt\n",
    "import numpy as np\n",
    "\n",
    "_sqrt_pi = np.sqrt(np.pi)\n",
    "\n",
    "from tqdm import tqdm_notebook\n",
    "from matplotlib import pyplot as plt\n",
    "\n",
    "filename_prefix1 = '/home/bill52547/Workspace/SRF_new_start/run/psf_2m/psf_img_xy_'\n",
    "filename_prefix2 = '/home/bill52547/Workspace/SRF_new_start/run/psf_2m/psf_img_z_'\n",
    "# image = np.load(filename)\n",
    "meta = PsfMeta3d()\n",
    "image_meta = Image_meta_3d((201, 201, 540), (0, 0, 1.71), (687.42, 687.42, 1846.8))\n",
    "\n",
    "plt.figure(figsize = (30, 100))\n",
    "for i in tqdm_notebook(range(100)):\n",
    "    filename = filename_prefix1 + str(i) + '.npy'\n",
    "    image_data = np.load(filename)\n",
    "    image = Image_3d(image_data, image_meta)\n",
    "    meta.add_para_xy(image, (i * 3.42, 0, 0), 15)\n",
    "\n",
    "for i in tqdm_notebook(range(270)):\n",
    "    filename = filename_prefix2 + str(i) + '.npy'\n",
    "    image_data = np.load(filename)\n",
    "    image = Image_3d(image_data, image_meta)\n",
    "    meta.add_para_z(image, (0, 0, i * 3.42), 15)\n",
    "# meta.save_h5()\n",
    "# image_meta.save_h5()\n",
    "from srf2.data.psf import *\n",
    "\n",
    "psf = PSF_3d(meta, image_meta)\n",
    "mat_xy = psf.generate_matrix_xy()\n",
    "mat_z = psf.generate_matrix_z()\n",
    "psf.save_h5()\n"
   ]
  },
  {
   "cell_type": "code",
   "execution_count": null,
   "metadata": {
    "collapsed": true
   },
   "outputs": [],
   "source": [
    "\n",
    "filename_prefix1 = '/home/bill52547/Workspace/SRF_new_start/run/psf_2m/psf_img_xy_'\n",
    "image0 = np.zeros((201, 201))\n",
    "i = 20\n",
    "image0[100 + i, 100] = 1\n",
    "image1 = psf2.matrix_xy * image0.flatten()\n",
    "image1 = image1.reshape((201, 201))\n",
    "\n",
    "filename = filename_prefix1 + str(i) + '.npy'\n",
    "image_data = np.load(filename)\n",
    "image_meta = Image_meta_3d((201,201,540), (0,0,1.71), (687.42,687.42,1846.8))\n",
    "image_real = Image_3d(image_data, image_meta)\n",
    "image_real = image_real.normalize()\n",
    "plt.figure(figsize=(15,15))\n",
    "plt.subplot(421)\n",
    "plt.imshow(image_real.data[i + 90:i + 110, 90: 110, 269])\n",
    "plt.colorbar()\n",
    "plt.subplot(422)\n",
    "plt.imshow(image1[90 + i:110 + i, 90: 110])\n",
    "plt.colorbar()\n",
    "plt.subplot(423)\n",
    "plt.plot(range(-100, 101), image_real.data[i + 100, :, 269], 'r')\n",
    "plt.subplot(424)\n",
    "plt.plot(range(-100, 101), image_real.data[:, 100, 269], 'r')\n",
    "plt.subplot(425)\n",
    "plt.plot(range(-100, 101), image1[i + 100, :], 'b')\n",
    "plt.subplot(426)\n",
    "plt.plot(range(-100, 101), image1[:, 100], 'b')\n",
    "import scipy.optimize as opt\n",
    "def least_sq(A, y, niter = 500):\n",
    "    x = np.zeros(y.shape)\n",
    "    eff = A.transpose() * (A * np.ones(y.shape))\n",
    "    for i in tqdm_notebook(range(niter)):\n",
    "        x1 = y - A * x\n",
    "        x += (A.transpose() * x1) / eff\n",
    "    return x\n",
    "image_solve = least_sq(psf2.matrix_xy, image_real.data[:,:, 269].ravel())\n",
    "plt.subplot(427)\n",
    "plt.imshow(image_solve.reshape((201,201))[i + 90:i + 110, 90: 110], vmin = 0)\n",
    "plt.colorbar()\n"
   ]
  },
  {
   "cell_type": "code",
   "execution_count": null,
   "metadata": {
    "collapsed": true
   },
   "outputs": [],
   "source": [
    "image0 = np.zeros((540,))\n",
    "i = 200\n",
    "image0[270 + i] = 1\n",
    "image1 = psf2.matrix_z * image0\n",
    "\n",
    "filename = filename_prefix2 + str(i) + '.npy'\n",
    "image_data = np.load(filename)\n",
    "image_real = image_data[90:111, 90:111, :]\n",
    "image_real = np.sum(image_data, axis = (0, 1))\n",
    "print(image_real.shape)\n",
    "plt.figure(figsize = (15, 15))\n",
    "plt.subplot(211)\n",
    "plt.plot(np.arange(-270 - i, 270 - i), image_real)\n",
    "plt.subplot(212)\n",
    "plt.plot(np.arange(-270 - i, 270 - i), image1)\n"
   ]
  }
 ],
 "metadata": {
  "kernelspec": {
   "display_name": "Python 2",
   "language": "python",
   "name": "python2"
  },
  "language_info": {
   "codemirror_mode": {
    "name": "ipython",
    "version": 2
   },
   "file_extension": ".py",
   "mimetype": "text/x-python",
   "name": "python",
   "nbconvert_exporter": "python",
   "pygments_lexer": "ipython2",
   "version": "2.7.6"
  }
 },
 "nbformat": 4,
 "nbformat_minor": 0
}
